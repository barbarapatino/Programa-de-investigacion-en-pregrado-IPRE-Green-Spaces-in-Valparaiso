{
 "cells": [
  {
   "cell_type": "code",
   "execution_count": 1,
   "metadata": {},
   "outputs": [],
   "source": [
    "import matplotlib.pyplot as plt\n",
    "import numpy as np"
   ]
  },
  {
   "cell_type": "markdown",
   "metadata": {},
   "source": [
    "Comprobamos calculos de Promedio NDVI por comuna"
   ]
  },
  {
   "cell_type": "code",
   "execution_count": 2,
   "metadata": {},
   "outputs": [
    {
     "name": "stdout",
     "output_type": "stream",
     "text": [
      "Promedio 0.26773682376190483\n"
     ]
    }
   ],
   "source": [
    "# COMUNA DE CABILDO\n",
    "numeros_csv = \"3106.349852,2568.474718,2380.656041,2399.238498,2870.335883,2757.314911,2816.095042,2474.111826,2088.777456,2525.394313,2115.047459,2694.884035,2402.754699,2979.96799,3062.145428,3064.559809,2726.424352,2978.443288,2910.612794,2717.916326,2585.22827\"\n",
    "\n",
    "# Convertir la lista CSV en una lista de números flotantes y dividir por 10,000\n",
    "numeros = [float(num) / 10000 for num in numeros_csv.split(',')]\n",
    "\n",
    "# Calcular el promedio\n",
    "promedio = np.mean(numeros)\n",
    "\n",
    "# Mostrar los resultados\n",
    "print(\"Promedio\", promedio)"
   ]
  }
 ],
 "metadata": {
  "kernelspec": {
   "display_name": "Python 3",
   "language": "python",
   "name": "python3"
  },
  "language_info": {
   "codemirror_mode": {
    "name": "ipython",
    "version": 3
   },
   "file_extension": ".py",
   "mimetype": "text/x-python",
   "name": "python",
   "nbconvert_exporter": "python",
   "pygments_lexer": "ipython3",
   "version": "3.10.11"
  }
 },
 "nbformat": 4,
 "nbformat_minor": 2
}
