{
 "cells": [
  {
   "cell_type": "code",
   "execution_count": 3,
   "metadata": {},
   "outputs": [
    {
     "name": "stdout",
     "output_type": "stream",
     "text": [
      "green_spaces_data cargada\n"
     ]
    }
   ],
   "source": [
    "import pandas as pd\n",
    "from carga_datos import  columnas_ndvi\n",
    "import matplotlib.pyplot as plt\n",
    "import numpy as np\n",
    "import ftfy"
   ]
  },
  {
   "cell_type": "markdown",
   "metadata": {},
   "source": [
    "Cargar BDD"
   ]
  },
  {
   "cell_type": "code",
   "execution_count": 4,
   "metadata": {},
   "outputs": [],
   "source": [
    "df_summer = pd.read_csv(\"green_spaces_data/summerNDVI_corregido.csv\",  encoding='utf-8')\n",
    "df_winter = pd.read_csv(\"green_spaces_data/winterNDVI_corregido.csv\",  encoding='utf-8')"
   ]
  },
  {
   "cell_type": "markdown",
   "metadata": {},
   "source": [
    "Seleccionar Region de Vaplaraíso y comunas del Área Metropolitana de Valparaíso"
   ]
  },
  {
   "cell_type": "code",
   "execution_count": null,
   "metadata": {},
   "outputs": [],
   "source": [
    "df_summer_valparaiso = df_summer.loc[df_summer[\"NOM_REG\"] == \"Valparaíso\"]\n",
    "df_winter_valparaiso = df_winter.loc[df_winter[\"NOM_REG\"] == \"Valparaíso\"]\n",
    "\n",
    "comunas_gran_valparaiso = [\"Valparaíso\", \"Quilpué\", \"Concón\", \"Viña del Mar\", \"Villa Alemana\"]\n",
    "\n",
    "# Verano\n",
    "df_summer_gran_valparaiso = df_summer.loc[df_summer[\"NOM_COM\"].isin(comunas_gran_valparaiso)]\n",
    "\n",
    "# Invierno\n",
    "df_winter_gran_valparaiso = df_winter.loc[df_winter[\"NOM_COM\"].isin(comunas_gran_valparaiso)]\n",
    "\n",
    "# Mostrar los primeros registros\n",
    "#print(\"Summer DataFrame Gran Valparaíso:\")\n",
    "#print(df_summer_gran_valparaiso)\n",
    "\n",
    "#print(\"\\nWinter DataFrame Gran Valparaíso:\")\n",
    "#print(df_winter_gran_valparaiso)"
   ]
  },
  {
   "cell_type": "code",
   "execution_count": null,
   "metadata": {},
   "outputs": [],
   "source": [
    "# Filtrar columnas con dato NDVI\n",
    "columnas_ndvi = [col for col in df_summer_gran_valparaiso.columns if '_NDVI' in col]\n",
    "\n",
    "# Aplicar describe() solo a las columnas seleccionadas\n",
    "df_summer_gran_valparaiso_ndvi = df_summer_gran_valparaiso[columnas_ndvi].describe()\n",
    "df_winter_gran_valparaiso_ndvi = df_winter_gran_valparaiso[columnas_ndvi].describe()\n",
    "\n",
    "print(\"Summer DataFrame Valparaíso:\")\n",
    "print(df_summer_gran_valparaiso_ndvi.describe())\n",
    "\n",
    "print(\"\\nWinter DataFrame Valparaíso:\")\n",
    "print(df_winter_gran_valparaiso_ndvi.describe())"
   ]
  }
 ],
 "metadata": {
  "kernelspec": {
   "display_name": "Python 3",
   "language": "python",
   "name": "python3"
  },
  "language_info": {
   "codemirror_mode": {
    "name": "ipython",
    "version": 3
   },
   "file_extension": ".py",
   "mimetype": "text/x-python",
   "name": "python",
   "nbconvert_exporter": "python",
   "pygments_lexer": "ipython3",
   "version": "3.10.11"
  }
 },
 "nbformat": 4,
 "nbformat_minor": 2
}
