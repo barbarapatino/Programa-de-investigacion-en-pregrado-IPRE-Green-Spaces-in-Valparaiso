{
 "cells": [
  {
   "cell_type": "code",
   "execution_count": 2,
   "metadata": {},
   "outputs": [
    {
     "name": "stdout",
     "output_type": "stream",
     "text": [
      "green_spaces_data cargada\n"
     ]
    }
   ],
   "source": [
    "import pandas as pd\n",
    "from carga_datos import  columnas_ndvi\n",
    "import matplotlib.pyplot as plt\n",
    "import numpy as np\n",
    "import ftfy"
   ]
  },
  {
   "cell_type": "markdown",
   "metadata": {},
   "source": [
    "Cargar BDD"
   ]
  },
  {
   "cell_type": "code",
   "execution_count": 3,
   "metadata": {},
   "outputs": [],
   "source": [
    "df_summer = pd.read_csv(\"green_spaces_data/summerNDVI_corregido.csv\",  encoding='utf-8')\n",
    "df_winter = pd.read_csv(\"green_spaces_data/winterNDVI_corregido.csv\",  encoding='utf-8')"
   ]
  },
  {
   "cell_type": "markdown",
   "metadata": {},
   "source": [
    "Seleccionar Region de Vaplaraíso"
   ]
  },
  {
   "cell_type": "code",
   "execution_count": null,
   "metadata": {},
   "outputs": [],
   "source": [
    "df_summer_valparaiso = df_summer.loc[df_summer[\"NOM_REG\"] == \"Valparaíso\"]\n",
    "df_winter_valparaiso = df_winter.loc[df_winter[\"NOM_REG\"] == \"Valparaíso\"]\n",
    "\n",
    "# Imprimir DataFrame de verano\n",
    "#print(\"Summer DataFrame Región de Valparaíso:\")\n",
    "print(df_summer_valparaiso)\n",
    "# Imprimir DataFrame de invierno\n",
    "#print(\"\\nWinter DataFrame Región de Valparaíso:\")\n",
    "#print(df_winter_valparaiso)"
   ]
  },
  {
   "cell_type": "markdown",
   "metadata": {},
   "source": [
    "# Tablas con los valores de NDVI por año"
   ]
  },
  {
   "cell_type": "markdown",
   "metadata": {},
   "source": [
    "Creamos copias"
   ]
  },
  {
   "cell_type": "code",
   "execution_count": 55,
   "metadata": {},
   "outputs": [],
   "source": [
    "df_summer_valparaiso_copy = df_summer_valparaiso.copy()\n",
    "df_winter_valparaiso_copy =df_winter_valparaiso.copy()"
   ]
  },
  {
   "cell_type": "markdown",
   "metadata": {},
   "source": [
    "Ordenamos columnas de NDVI por orden cronológico"
   ]
  },
  {
   "cell_type": "code",
   "execution_count": 57,
   "metadata": {},
   "outputs": [],
   "source": [
    "def extraer_numero(columna):\n",
    "    return int(columna.split('_')[0])\n",
    "\n",
    "# Ordenamos las columnas\n",
    "ordered_ndvi_columns = sorted(columnas_ndvi, key=extraer_numero)\n",
    "\n",
    "# Summer\n",
    "# Reorganizamos las columnas, primero las ordenadas NDVI y luego el resto de las columnas\n",
    "df_summer_valparaiso_copy = df_summer_valparaiso_copy[ordered_ndvi_columns + [col for col in df_summer_valparaiso_copy.columns if '_NDVI' not in col]]\n",
    "\n",
    "# Winter\n",
    "df_winter_valparaiso_copy = df_winter_valparaiso_copy[ordered_ndvi_columns + [col for col in df_winter_valparaiso_copy.columns if '_NDVI' not in col]]"
   ]
  },
  {
   "cell_type": "markdown",
   "metadata": {},
   "source": [
    "Primero cambiamos las etiquetas (0_NDVI por 2002_NDVI)"
   ]
  },
  {
   "cell_type": "code",
   "execution_count": 58,
   "metadata": {},
   "outputs": [],
   "source": [
    "# Crea diccionario con etiquetas nuevas. Reempolaza 0_NDVI con 2002_NDVI\n",
    "nueva_etiqueta_ndvi = {\n",
    "    f\"{i}_NDVI\": f\"{2002 + i}_NDVI\" for i in range(21)  # De 0_NDVI (2002) a 20_NDVI (2022)\n",
    "}\n",
    "\n",
    "# Cambiamos etiqueta\n",
    "df_summer_valparaiso_copy.rename(columns=nueva_etiqueta_ndvi, inplace=True)\n",
    "df_winter_valparaiso_copy.rename(columns=nueva_etiqueta_ndvi, inplace=True)"
   ]
  },
  {
   "cell_type": "markdown",
   "metadata": {},
   "source": [
    "## Tablas de la Región de Valparaíso"
   ]
  },
  {
   "cell_type": "code",
   "execution_count": null,
   "metadata": {},
   "outputs": [],
   "source": [
    "print(\"Tabla VERANO con los valores de NDVI para todas las comunas de la Región de Valparaíso en el tiempo \")\n",
    "df_summer_valparaiso_copy\n"
   ]
  },
  {
   "cell_type": "code",
   "execution_count": null,
   "metadata": {},
   "outputs": [],
   "source": [
    "print(\"Tabla INVIERNO con los valores de NDVI para todas las comunas de la Región de Valparaíso en el tiempo \")\n",
    "df_winter_valparaiso_copy"
   ]
  },
  {
   "cell_type": "markdown",
   "metadata": {},
   "source": [
    "## Tablas de las Provincias de Valparaíso"
   ]
  },
  {
   "cell_type": "markdown",
   "metadata": {},
   "source": [
    "### Tablas de la Provincia de Valparaíso"
   ]
  },
  {
   "cell_type": "code",
   "execution_count": null,
   "metadata": {},
   "outputs": [],
   "source": [
    "print(\"Tabla VERANO con los valores de NDVI para las comunas de la Provincia de Valparaíso \")\n",
    "df_summer_provincia_valparaiso = df_summer_valparaiso_copy[df_summer_valparaiso_copy['NOM_PROV'] == 'Valparaíso']"
   ]
  },
  {
   "cell_type": "code",
   "execution_count": null,
   "metadata": {},
   "outputs": [],
   "source": [
    "print(\"Tabla Invierno con los valores de NDVI para las comunas de la Provincia de Valparaíso \")\n",
    "df_winter_provincia_valparaiso = df_winter_valparaiso_copy[df_winter_valparaiso_copy['NOM_PROV'] == 'Valparaíso']"
   ]
  },
  {
   "cell_type": "markdown",
   "metadata": {},
   "source": [
    "### Tablas de la Provincia de Petorca"
   ]
  },
  {
   "cell_type": "code",
   "execution_count": null,
   "metadata": {},
   "outputs": [],
   "source": [
    "print(\"Tabla VERANO con los valores de NDVI para las comunas de la Provincia de Petorca\")\n",
    "df_summer_provincia_petorca = df_summer_valparaiso_copy[df_summer_valparaiso_copy['NOM_PROV'] == 'Petorca']"
   ]
  },
  {
   "cell_type": "code",
   "execution_count": null,
   "metadata": {},
   "outputs": [],
   "source": [
    "print(\"Tabla Invierno con los valores de NDVI para las comunas de la Provincia de Petorca\")\n",
    "df_winter_provincia_valparaiso = df_winter_valparaiso_copy[df_winter_valparaiso_copy['NOM_PROV'] == 'Petorca']"
   ]
  },
  {
   "cell_type": "markdown",
   "metadata": {},
   "source": [
    "### Tablas de la Provincia de Quillota"
   ]
  },
  {
   "cell_type": "code",
   "execution_count": null,
   "metadata": {},
   "outputs": [],
   "source": [
    "print(\"Tabla VERANO con los valores de NDVI para las comunas de la Provincia de Quillota\")\n",
    "df_quillota = df_summer_valparaiso_copy[df_summer_valparaiso_copy['NOM_PROV'] == 'Quillota']"
   ]
  },
  {
   "cell_type": "code",
   "execution_count": null,
   "metadata": {},
   "outputs": [],
   "source": [
    "print(\"Tabla Invierno con los valores de NDVI para las comunas de la Provincia de Quillota\")\n",
    "df_winter_provincia_valparaiso = df_winter_valparaiso_copy[df_winter_valparaiso_copy['NOM_PROV'] == 'Quillota']"
   ]
  },
  {
   "cell_type": "markdown",
   "metadata": {},
   "source": [
    "### Tablas de la Provincia de San Felipe"
   ]
  },
  {
   "cell_type": "code",
   "execution_count": null,
   "metadata": {},
   "outputs": [],
   "source": [
    "print(\"Tabla VERANO con los valores de NDVI para las comunas de la Provincia de San Felipe\")\n",
    "df_summer_provincia_valparaiso = df_summer_valparaiso_copy[df_summer_valparaiso_copy['NOM_PROV'] == 'San Felipe']"
   ]
  },
  {
   "cell_type": "code",
   "execution_count": null,
   "metadata": {},
   "outputs": [],
   "source": [
    "print(\"Tabla Invierno con los valores de NDVI para las comunas de la Provincia de San Felipe\")\n",
    "df_winter_provincia_valparaiso = df_winter_valparaiso_copy[df_winter_valparaiso_copy['NOM_PROV'] == 'San Felipe']"
   ]
  },
  {
   "cell_type": "markdown",
   "metadata": {},
   "source": [
    "### Tablas de la Provincia de Los Andes"
   ]
  },
  {
   "cell_type": "code",
   "execution_count": null,
   "metadata": {},
   "outputs": [],
   "source": [
    "print(\"Tabla VERANO con los valores de NDVI para las comunas de la Provincia de Los Andes\")\n",
    "df_summer_provincia_valparaiso = df_summer_valparaiso_copy[df_summer_valparaiso_copy['NOM_PROV'] == 'Los Andes']"
   ]
  },
  {
   "cell_type": "code",
   "execution_count": null,
   "metadata": {},
   "outputs": [],
   "source": [
    "print(\"Tabla Invierno con los valores de NDVI para las comunas de la Provincia de Los Andes\")\n",
    "df_winter_provincia_valparaiso = df_winter_valparaiso_copy[df_winter_valparaiso_copy['NOM_PROV'] == 'Los Andes']"
   ]
  },
  {
   "cell_type": "markdown",
   "metadata": {},
   "source": [
    "### Tablas de la Provincia de San Antonio"
   ]
  },
  {
   "cell_type": "code",
   "execution_count": null,
   "metadata": {},
   "outputs": [],
   "source": [
    "print(\"Tabla VERANO con los valores de NDVI para las comunas de la Provincia de San Antonio\")\n",
    "df_summer_provincia_valparaiso = df_summer_valparaiso_copy[df_summer_valparaiso_copy['NOM_PROV'] == 'San Antonio']"
   ]
  },
  {
   "cell_type": "code",
   "execution_count": null,
   "metadata": {},
   "outputs": [],
   "source": [
    "print(\"Tabla Invierno con los valores de NDVI para las comunas de la Provincia de San Antonio\")\n",
    "df_winter_provincia_valparaiso = df_winter_valparaiso_copy[df_winter_valparaiso_copy['NOM_PROV'] == 'San Antonio']"
   ]
  },
  {
   "cell_type": "markdown",
   "metadata": {},
   "source": [
    "## Promedio de NDVI entre 2002-2022 por cada comuna de Valparaíso "
   ]
  },
  {
   "cell_type": "code",
   "execution_count": null,
   "metadata": {},
   "outputs": [],
   "source": [
    "# Calcular el promedio entre todas las columnas NDVI para cada fila\n",
    "# Usamos columnas_ndvi = [col for col in df_summer.columns if '_NDVI' in col] que importamos más arriba\n",
    "df_summer_valparaiso = df_summer.loc[df_summer[\"NOM_REG\"] == \"Valparaíso\"].copy()  # Usar .copy() para asegurar que estás trabajando con una copia independiente\n",
    "df_winter_valparaiso = df_winter.loc[df_winter[\"NOM_REG\"] == \"Valparaíso\"].copy()  # Lo mismo para el df_winter\n",
    "# Mostrar los resultados\n",
    "print(\"Promedio NDVI por comuna Summer (2002-2022):\")\n",
    "print(df_summer_valparaiso[['NOM_COM', 'Mean_NDVI']])\n",
    "print(\"\\nPromedio NDVI por comuna Winter (2002-2022):\")\n",
    "print(df_winter_valparaiso[['NOM_COM', 'Mean_NDVI']])"
   ]
  }
 ],
 "metadata": {
  "kernelspec": {
   "display_name": "Python 3",
   "language": "python",
   "name": "python3"
  },
  "language_info": {
   "codemirror_mode": {
    "name": "ipython",
    "version": 3
   },
   "file_extension": ".py",
   "mimetype": "text/x-python",
   "name": "python",
   "nbconvert_exporter": "python",
   "pygments_lexer": "ipython3",
   "version": "3.10.11"
  }
 },
 "nbformat": 4,
 "nbformat_minor": 2
}
